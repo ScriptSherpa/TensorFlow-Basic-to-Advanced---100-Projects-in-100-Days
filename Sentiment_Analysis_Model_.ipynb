{
  "nbformat": 4,
  "nbformat_minor": 0,
  "metadata": {
    "colab": {
      "provenance": [],
      "authorship_tag": "ABX9TyO4ULA7Siw385IL2bm0N/6i",
      "include_colab_link": true
    },
    "kernelspec": {
      "name": "python3",
      "display_name": "Python 3"
    },
    "language_info": {
      "name": "python"
    }
  },
  "cells": [
    {
      "cell_type": "markdown",
      "metadata": {
        "id": "view-in-github",
        "colab_type": "text"
      },
      "source": [
        "<a href=\"https://colab.research.google.com/github/ScriptSherpa/TensorFlow-Basic-to-Advanced---100-Projects-in-100-Days/blob/main/Sentiment_Analysis_Model_.ipynb\" target=\"_parent\"><img src=\"https://colab.research.google.com/assets/colab-badge.svg\" alt=\"Open In Colab\"/></a>"
      ]
    },
    {
      "cell_type": "markdown",
      "source": [
        "# A Step-by-Step Guide to Building a Sentiment Analysis Model using BERT and **TensorFlow**"
      ],
      "metadata": {
        "id": "ng5fqTWUNPOP"
      }
    },
    {
      "cell_type": "code",
      "execution_count": 1,
      "metadata": {
        "colab": {
          "base_uri": "https://localhost:8080/"
        },
        "id": "hKnUdowMM_QV",
        "outputId": "6d974fc7-1aa7-4541-ffef-b90dcd94c3e6"
      },
      "outputs": [
        {
          "output_type": "stream",
          "name": "stderr",
          "text": [
            "[nltk_data] Downloading package punkt to /root/nltk_data...\n",
            "[nltk_data]   Unzipping tokenizers/punkt.zip.\n",
            "[nltk_data] Downloading package stopwords to /root/nltk_data...\n",
            "[nltk_data]   Unzipping corpora/stopwords.zip.\n"
          ]
        },
        {
          "output_type": "execute_result",
          "data": {
            "text/plain": [
              "True"
            ]
          },
          "metadata": {},
          "execution_count": 1
        }
      ],
      "source": [
        "\n",
        "import tensorflow as tf\n",
        "from tensorflow.keras.preprocessing.text import Tokenizer\n",
        "from tensorflow.keras.preprocessing.sequence import pad_sequences\n",
        "from tensorflow.keras.layers import Embedding, LSTM, Dense\n",
        "from sklearn.model_selection import train_test_split\n",
        "from sklearn.metrics import accuracy_score\n",
        "from nltk.tokenize import word_tokenize\n",
        "from nltk.corpus import stopwords\n",
        "import nltk\n",
        "nltk.download('punkt')\n",
        "nltk.download('stopwords')"
      ]
    },
    {
      "cell_type": "code",
      "source": [
        "import nltk\n",
        "nltk.download('twitter_samples')\n",
        "nltk.download('stopwords')\n",
        "nltk.download('punkt')\n",
        "nltk.download('wordnet')"
      ],
      "metadata": {
        "colab": {
          "base_uri": "https://localhost:8080/"
        },
        "id": "t2-2Ez9XN0Sn",
        "outputId": "968a2bee-e571-4d0c-cc33-1de4626e7edc"
      },
      "execution_count": 2,
      "outputs": [
        {
          "output_type": "stream",
          "name": "stderr",
          "text": [
            "[nltk_data] Downloading package twitter_samples to /root/nltk_data...\n",
            "[nltk_data]   Unzipping corpora/twitter_samples.zip.\n",
            "[nltk_data] Downloading package stopwords to /root/nltk_data...\n",
            "[nltk_data]   Package stopwords is already up-to-date!\n",
            "[nltk_data] Downloading package punkt to /root/nltk_data...\n",
            "[nltk_data]   Package punkt is already up-to-date!\n",
            "[nltk_data] Downloading package wordnet to /root/nltk_data...\n"
          ]
        },
        {
          "output_type": "execute_result",
          "data": {
            "text/plain": [
              "True"
            ]
          },
          "metadata": {},
          "execution_count": 2
        }
      ]
    },
    {
      "cell_type": "markdown",
      "source": [
        "Step 2: Loading and Preprocessing Data\n",
        "For sentiment analysis, we need a labeled dataset of text and corresponding sentiment labels. NLTK provides the Twitter samples dataset:"
      ],
      "metadata": {
        "id": "xTwa9laAPzgn"
      }
    },
    {
      "cell_type": "code",
      "source": [
        "from nltk.corpus import twitter_samples\n",
        "import random\n",
        "\n",
        "# Load twitter samples dataset\n",
        "positive_tweets = twitter_samples.strings('positive_tweets.json')\n",
        "negative_tweets = twitter_samples.strings('negative_tweets.json')\n",
        "\n",
        "# Combine the datasets and create labels\n",
        "tweets = positive_tweets + negative_tweets\n",
        "labels = ['Positive'] * len(positive_tweets) + ['Negative'] * len(negative_tweets)\n",
        "\n",
        "# Shuffle the dataset\n",
        "combined = list(zip(tweets, labels))\n",
        "random.shuffle(combined)\n",
        "tweets, labels = zip(*combined)"
      ],
      "metadata": {
        "id": "L2Ofr1osOiU9"
      },
      "execution_count": 3,
      "outputs": []
    },
    {
      "cell_type": "markdown",
      "source": [
        "Step 3: Tokenization\n",
        "Tokenization is the process of splitting text into individual words or tokens. NLTK provides a simple way to tokenize text:"
      ],
      "metadata": {
        "id": "eCP0xzJRP3BO"
      }
    },
    {
      "source": [
        "import nltk\n",
        "nltk.download('punkt_tab') # Download the punkt_tab data package\n",
        "from nltk.tokenize import word_tokenize\n",
        "\n",
        "sample_text = \"I love this product! It's amazing.\"\n",
        "tokens = word_tokenize(sample_text)\n",
        "print(tokens)"
      ],
      "cell_type": "code",
      "metadata": {
        "colab": {
          "base_uri": "https://localhost:8080/"
        },
        "id": "bNmL7ul7PsFa",
        "outputId": "53c248a7-1c55-41ff-c268-73a6fcb867f7"
      },
      "execution_count": 6,
      "outputs": [
        {
          "output_type": "stream",
          "name": "stderr",
          "text": [
            "[nltk_data] Downloading package punkt_tab to /root/nltk_data...\n",
            "[nltk_data]   Unzipping tokenizers/punkt_tab.zip.\n"
          ]
        },
        {
          "output_type": "stream",
          "name": "stdout",
          "text": [
            "['I', 'love', 'this', 'product', '!', 'It', \"'s\", 'amazing', '.']\n"
          ]
        }
      ]
    },
    {
      "cell_type": "markdown",
      "source": [
        "\n",
        "Step 4: Removing Stopwords\n",
        "Stopwords are common words that do not carry significant meaning and can be removed from the text. NLTK has a built-in list of stopwords:"
      ],
      "metadata": {
        "id": "ZzRG0_cPP8qs"
      }
    },
    {
      "cell_type": "code",
      "source": [
        "from nltk.corpus import stopwords\n",
        "\n",
        "stop_words = set(stopwords.words('english'))\n",
        "\n",
        "def remove_stopwords(tokens):\n",
        "    return [word for word in tokens if word.lower() not in stop_words]\n",
        "\n",
        "filtered_tokens = remove_stopwords(tokens)\n",
        "print(filtered_tokens)"
      ],
      "metadata": {
        "colab": {
          "base_uri": "https://localhost:8080/"
        },
        "id": "hTn-8TdeP5VS",
        "outputId": "5f4af226-f45a-4512-ab4a-df0071fb7781"
      },
      "execution_count": 8,
      "outputs": [
        {
          "output_type": "stream",
          "name": "stdout",
          "text": [
            "['love', 'product', '!', \"'s\", 'amazing', '.']\n"
          ]
        }
      ]
    },
    {
      "cell_type": "markdown",
      "source": [
        "Step 5: Stemming and Lemmatization\n",
        "Stemming and lemmatization are techniques for reducing words to their root forms. NLTK provides tools for both:"
      ],
      "metadata": {
        "id": "qLlQhVxzQPux"
      }
    },
    {
      "cell_type": "code",
      "source": [
        "from nltk.stem import PorterStemmer\n",
        "from nltk.stem import WordNetLemmatizer\n",
        "\n",
        "stemmer = PorterStemmer()\n",
        "lemmatizer = WordNetLemmatizer()\n",
        "\n",
        "stemmed_tokens = [stemmer.stem(word) for word in filtered_tokens]\n",
        "lemmatized_tokens = [lemmatizer.lemmatize(word) for word in filtered_tokens]\n",
        "print(stemmed_tokens)\n",
        "print(lemmatized_tokens)"
      ],
      "metadata": {
        "colab": {
          "base_uri": "https://localhost:8080/"
        },
        "id": "X5mGLPF7QQ2J",
        "outputId": "8840108f-af31-4bec-e6f5-c2af2c3f256b"
      },
      "execution_count": 9,
      "outputs": [
        {
          "output_type": "stream",
          "name": "stdout",
          "text": [
            "['love', 'product', '!', \"'s\", 'amaz', '.']\n",
            "['love', 'product', '!', \"'s\", 'amazing', '.']\n"
          ]
        }
      ]
    },
    {
      "cell_type": "markdown",
      "source": [
        "Step 6: Feature Extraction\n",
        "We need to convert our text data into a format suitable for machine learning algorithms. One common approach is to use a bag-of-words model:"
      ],
      "metadata": {
        "id": "eizwuPKlQWAJ"
      }
    },
    {
      "cell_type": "code",
      "source": [
        "from nltk.probability import FreqDist\n",
        "\n",
        "all_words = [word.lower() for tweet in tweets for word in word_tokenize(tweet)]\n",
        "all_words_freq = FreqDist(all_words)\n",
        "\n",
        "# Select the top 2000 words as features\n",
        "word_features = list(all_words_freq.keys())[:2000]\n",
        "\n",
        "def document_features(document):\n",
        "    document_words = set(document)\n",
        "    features = {}\n",
        "    for word in word_features:\n",
        "        features['contains({})'.format(word)] = (word in document_words)\n",
        "    return features\n",
        "\n",
        "# Create feature sets for training and testing\n",
        "feature_sets = [(document_features(word_tokenize(tweet)), label) for (tweet, label) in zip(tweets, labels)]\n",
        "train_set, test_set = feature_sets[1000:], feature_sets[:1000]"
      ],
      "metadata": {
        "id": "XzbJttNaQWwL"
      },
      "execution_count": 10,
      "outputs": []
    },
    {
      "cell_type": "markdown",
      "source": [
        "Step 7: Building a Sentiment Analysis Model\n",
        "We can use the Naive Bayes classifier, which is simple and effective for text classification tasks:"
      ],
      "metadata": {
        "id": "lkntXa10QcVd"
      }
    },
    {
      "cell_type": "code",
      "source": [
        "from nltk.classify import NaiveBayesClassifier\n",
        "\n",
        "classifier = NaiveBayesClassifier.train(train_set)"
      ],
      "metadata": {
        "id": "0L6RlG8sQdDx"
      },
      "execution_count": 11,
      "outputs": []
    },
    {
      "cell_type": "markdown",
      "source": [
        "Step 8: Training and Evaluate the Model\n",
        "To evaluate our model, we can use the accuracy metric:"
      ],
      "metadata": {
        "id": "aNkCRVlCQhRH"
      }
    },
    {
      "cell_type": "code",
      "source": [
        "import nltk.classify.util\n",
        "\n",
        "accuracy = nltk.classify.util.accuracy(classifier, test_set)\n",
        "print(f'Accuracy: {accuracy * 100:.2f}%')"
      ],
      "metadata": {
        "colab": {
          "base_uri": "https://localhost:8080/"
        },
        "id": "3Czn0qPaQgl5",
        "outputId": "6683d692-8837-4dfb-b7f2-8c148d5f1df3"
      },
      "execution_count": 12,
      "outputs": [
        {
          "output_type": "stream",
          "name": "stdout",
          "text": [
            "Accuracy: 99.50%\n"
          ]
        }
      ]
    },
    {
      "cell_type": "code",
      "source": [
        "classifier.show_most_informative_features(10)"
      ],
      "metadata": {
        "colab": {
          "base_uri": "https://localhost:8080/"
        },
        "id": "zvYqSxk2Qksb",
        "outputId": "6291420a-04db-412a-9d50-16eeb6582e36"
      },
      "execution_count": 13,
      "outputs": [
        {
          "output_type": "stream",
          "name": "stdout",
          "text": [
            "Most Informative Features\n",
            "             contains()) = True           Positi : Negati =     64.6 : 1.0\n",
            "             contains(() = True           Negati : Positi =     63.9 : 1.0\n",
            "           contains(sad) = True           Negati : Positi =     27.3 : 1.0\n",
            "          contains(miss) = True           Negati : Positi =     21.8 : 1.0\n",
            "          contains(glad) = True           Positi : Negati =     18.3 : 1.0\n",
            "       contains(arrived) = True           Positi : Negati =     17.3 : 1.0\n",
            "          contains(blog) = True           Positi : Negati =     16.3 : 1.0\n",
            "       contains(welcome) = True           Positi : Negati =     14.7 : 1.0\n",
            "          contains(lost) = True           Negati : Positi =     13.7 : 1.0\n",
            "         contains(loves) = True           Positi : Negati =     12.7 : 1.0\n"
          ]
        }
      ]
    },
    {
      "source": [
        "import nltk\n",
        "nltk.download('vader_lexicon')\n",
        "\n",
        "from nltk.sentiment.vader import SentimentIntensityAnalyzer\n",
        "\n",
        "sid = SentimentIntensityAnalyzer()\n",
        "text = \"NLTK is a great library for text processing!\"\n",
        "sentiment_scores = sid.polarity_scores(text)\n",
        "print(sentiment_scores)"
      ],
      "cell_type": "code",
      "metadata": {
        "colab": {
          "base_uri": "https://localhost:8080/"
        },
        "id": "nDSocTXbQ2sB",
        "outputId": "1325cb92-0560-4e2d-fdc3-07f5b989e49d"
      },
      "execution_count": 17,
      "outputs": [
        {
          "output_type": "stream",
          "name": "stdout",
          "text": [
            "{'neg': 0.0, 'neu': 0.577, 'pos': 0.423, 'compound': 0.6588}\n"
          ]
        },
        {
          "output_type": "stream",
          "name": "stderr",
          "text": [
            "[nltk_data] Downloading package vader_lexicon to /root/nltk_data...\n"
          ]
        }
      ]
    },
    {
      "cell_type": "code",
      "source": [
        "# Classifying a new sentence using the trained classifier\n",
        "test_sentence = \"This is an amazing movie!\"\n",
        "test_features = document_features(word_tokenize(test_sentence))\n",
        "classification = classifier.classify(test_features)\n",
        "print(classification)"
      ],
      "metadata": {
        "colab": {
          "base_uri": "https://localhost:8080/"
        },
        "id": "oJawCpHxQrDO",
        "outputId": "46ace99b-4482-4b61-f7f8-1c5c5914d8eb"
      },
      "execution_count": 15,
      "outputs": [
        {
          "output_type": "stream",
          "name": "stdout",
          "text": [
            "Positive\n"
          ]
        }
      ]
    },
    {
      "cell_type": "code",
      "source": [
        "# Visualizing Sentiment Scores\n",
        "import matplotlib.pyplot as plt # Import the pyplot module from matplotlib\n",
        "import seaborn as sns # Import seaborn\n",
        "\n",
        "def plot_sentiment_scores(sentiment_scores):\n",
        "    plt.figure(figsize=(8, 4))\n",
        "    sns.barplot(x=list(sentiment_scores.keys()), y=list(sentiment_scores.values()))\n",
        "    plt.title('Sentiment Scores')\n",
        "    plt.ylabel('Score')\n",
        "    plt.show()\n",
        "\n",
        "plot_sentiment_scores(sentiment_scores)"
      ],
      "metadata": {
        "colab": {
          "base_uri": "https://localhost:8080/",
          "height": 391
        },
        "id": "UQP4J1siQs_6",
        "outputId": "9e083818-2308-452a-edf4-c899c25f1d55"
      },
      "execution_count": 19,
      "outputs": [
        {
          "output_type": "display_data",
          "data": {
            "text/plain": [
              "<Figure size 800x400 with 1 Axes>"
            ],
            "image/png": "[encoded data removed]"
          },
          "metadata": {}
        }
      ]
    },
    {
      "cell_type": "code",
      "source": [
        "# Visualizing the Sentiment Distribution in the Dataset\n",
        "def plot_sentiment_distribution(labels):\n",
        "    sentiment_dist = FreqDist(labels)\n",
        "    plt.figure(figsize=(8, 4))\n",
        "    sns.barplot(x=list(sentiment_dist.keys()), y=list(sentiment_dist.values()))\n",
        "    plt.title('Sentiment Distribution in Dataset')\n",
        "    plt.ylabel('Number of Tweets')\n",
        "    plt.show()\n",
        "\n",
        "plot_sentiment_distribution(labels)"
      ],
      "metadata": {
        "colab": {
          "base_uri": "https://localhost:8080/",
          "height": 391
        },
        "id": "wMrPGzd4QuXh",
        "outputId": "1111b454-c5e2-48b3-b3be-017941186e85"
      },
      "execution_count": 20,
      "outputs": [
        {
          "output_type": "display_data",
          "data": {
            "text/plain": [
              "<Figure size 800x400 with 1 Axes>"
            ],
            "image/png": "[encoded data removed]"
          },
          "metadata": {}
        }
      ]
    },
    {
      "cell_type": "markdown",
      "source": [],
      "metadata": {
        "id": "juyQgcdHQoAI"
      }
    }
  ]
}