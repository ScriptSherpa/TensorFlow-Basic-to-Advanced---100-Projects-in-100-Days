{
  "nbformat": 4,
  "nbformat_minor": 0,
  "metadata": {
    "colab": {
      "provenance": [],
      "authorship_tag": "ABX9TyPcfO+VMaEO5QcpjjYbetDk",
      "include_colab_link": true
    },
    "kernelspec": {
      "name": "python3",
      "display_name": "Python 3"
    },
    "language_info": {
      "name": "python"
    }
  },
  "cells": [
    {
      "cell_type": "markdown",
      "metadata": {
        "id": "view-in-github",
        "colab_type": "text"
      },
      "source": [
        "<a href=\"https://colab.research.google.com/github/ScriptSherpa/TensorFlow-Basic-to-Advanced---100-Projects-in-100-Days/blob/main/Project_13_TensorBoard_Logging_Visualizer.ipynb\" target=\"_parent\"><img src=\"https://colab.research.google.com/assets/colab-badge.svg\" alt=\"Open In Colab\"/></a>"
      ]
    },
    {
      "cell_type": "code",
      "execution_count": 1,
      "metadata": {
        "colab": {
          "base_uri": "https://localhost:8080/"
        },
        "id": "ErfI8b7tzUab",
        "outputId": "e0e5259d-de49-4181-cba0-bca9ae5d10e7"
      },
      "outputs": [
        {
          "output_type": "stream",
          "name": "stdout",
          "text": [
            "Downloading data from https://storage.googleapis.com/tensorflow/tf-keras-datasets/mnist.npz\n",
            "\u001b[1m11490434/11490434\u001b[0m \u001b[32m━━━━━━━━━━━━━━━━━━━━\u001b[0m\u001b[37m\u001b[0m \u001b[1m0s\u001b[0m 0us/step\n"
          ]
        },
        {
          "output_type": "stream",
          "name": "stderr",
          "text": [
            "/usr/local/lib/python3.11/dist-packages/keras/src/layers/convolutional/base_conv.py:107: UserWarning: Do not pass an `input_shape`/`input_dim` argument to a layer. When using Sequential models, prefer using an `Input(shape)` object as the first layer in the model instead.\n",
            "  super().__init__(activity_regularizer=activity_regularizer, **kwargs)\n"
          ]
        },
        {
          "output_type": "execute_result",
          "data": {
            "text/plain": [
              "<keras.src.callbacks.history.History at 0x7f01163cbd90>"
            ]
          },
          "metadata": {},
          "execution_count": 1
        }
      ],
      "source": [
        "import tensorflow as tf\n",
        "import datetime\n",
        "\n",
        "# Load and normalize MNIST dataset\n",
        "(X_train, y_train), _ = tf.keras.datasets.mnist.load_data()        # Use only training data\n",
        "X_train = X_train / 255.0                                          # Normalize pixel values\n",
        "X_train = X_train[..., tf.newaxis]                                 # Add channel dimension (28,28,1)\n",
        "\n",
        "# Create a simple CNN model\n",
        "model = tf.keras.Sequential([\n",
        "    tf.keras.layers.Conv2D(32, 3, activation='relu', input_shape=(28, 28, 1)),  # Conv layer\n",
        "    tf.keras.layers.Flatten(),                                                 # Flatten for Dense layer\n",
        "    tf.keras.layers.Dense(64, activation='relu'),                              # Hidden layer\n",
        "    tf.keras.layers.Dense(10, activation='softmax')                            # Output layer\n",
        "])\n",
        "\n",
        "# Compile the model\n",
        "model.compile(optimizer='adam', loss='sparse_categorical_crossentropy', metrics=['accuracy'])\n",
        "\n",
        "# Set up TensorBoard log directory\n",
        "log_dir = \"logs/tensorboard_demo/\" + datetime.datetime.now().strftime(\"%Y%m%d-%H%M%S\")\n",
        "\n",
        "# Create TensorBoard callback\n",
        "tensorboard_cb = tf.keras.callbacks.TensorBoard(log_dir=log_dir, histogram_freq=1)\n",
        "\n",
        "# Train the model with TensorBoard callback\n",
        "model.fit(X_train, y_train, epochs=5, validation_split=0.2, callbacks=[tensorboard_cb], verbose=0)\n",
        "\n",
        "# To launch TensorBoard, run this command in a separate terminal (not in Python):\n",
        "# tensorboard --logdir=logs/tensorboard_demo/\n"
      ]
    }
  ]
}