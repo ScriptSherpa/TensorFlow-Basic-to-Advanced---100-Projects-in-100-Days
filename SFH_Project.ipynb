{
  "metadata": {
    "kernelspec": {
      "name": "python3",
      "display_name": "Python 3",
      "language": "python"
    },
    "language_info": {
      "name": "python",
      "version": "3.10.13",
      "mimetype": "text/x-python",
      "codemirror_mode": {
        "name": "ipython",
        "version": 3
      },
      "pygments_lexer": "ipython3",
      "nbconvert_exporter": "python",
      "file_extension": ".py"
    },
    "vscode": {
      "interpreter": {
        "hash": "6a926afa313b26ae1264fdcf81c726a97e69f6ba2ba780f6aa901948710f8d6e"
      }
    },
    "kaggle": {
      "accelerator": "nvidiaTeslaT4",
      "dataSources": [
        {
          "sourceId": 6800403,
          "sourceType": "datasetVersion",
          "datasetId": 3912623
        }
      ],
      "dockerImageVersionId": 30698,
      "isInternetEnabled": true,
      "language": "python",
      "sourceType": "notebook",
      "isGpuEnabled": true
    },
    "colab": {
      "name": "SFH Project",
      "provenance": [],
      "include_colab_link": true
    }
  },
  "nbformat_minor": 0,
  "nbformat": 4,
  "cells": [
    {
      "cell_type": "markdown",
      "metadata": {
        "id": "view-in-github",
        "colab_type": "text"
      },
      "source": [
        "<a href=\"https://colab.research.google.com/github/ScriptSherpa/TensorFlow-Basic-to-Advanced---100-Projects-in-100-Days/blob/main/SFH_Project.ipynb\" target=\"_parent\"><img src=\"https://colab.research.google.com/assets/colab-badge.svg\" alt=\"Open In Colab\"/></a>"
      ]
    },
    {
      "source": [
        "# IMPORTANT: RUN THIS CELL IN ORDER TO IMPORT YOUR KAGGLE DATA SOURCES,\n",
        "# THEN FEEL FREE TO DELETE THIS CELL.\n",
        "# NOTE: THIS NOTEBOOK ENVIRONMENT DIFFERS FROM KAGGLE'S PYTHON\n",
        "# ENVIRONMENT SO THERE MAY BE MISSING LIBRARIES USED BY YOUR\n",
        "# NOTEBOOK.\n",
        "import kagglehub\n",
        "umairshafique_sfh_dataset_path = kagglehub.dataset_download('umairshafique/sfh-dataset')\n",
        "\n",
        "print('Data source import complete.')\n"
      ],
      "metadata": {
        "id": "oVdCvgpOLIe_"
      },
      "cell_type": "code",
      "outputs": [],
      "execution_count": null
    },
    {
      "cell_type": "markdown",
      "source": [
        "## import the libraries and split the data into train,test,and validation"
      ],
      "metadata": {
        "id": "NPxX4yLrLIfC"
      }
    },
    {
      "cell_type": "code",
      "source": [
        "!pip install split-folders"
      ],
      "metadata": {
        "execution": {
          "iopub.status.busy": "2025-05-12T04:18:40.839945Z",
          "iopub.execute_input": "2025-05-12T04:18:40.840236Z",
          "iopub.status.idle": "2025-05-12T04:18:50.843839Z",
          "shell.execute_reply.started": "2025-05-12T04:18:40.840208Z",
          "shell.execute_reply": "2025-05-12T04:18:50.84281Z"
        },
        "trusted": true,
        "id": "KdKSDq2wLIfE",
        "outputId": "5d65fff8-2e1e-4237-dfc8-2bb0297a8d51"
      },
      "outputs": [
        {
          "name": "stdout",
          "text": "Collecting split-folders\n  Downloading split_folders-0.5.1-py3-none-any.whl.metadata (6.2 kB)\nDownloading split_folders-0.5.1-py3-none-any.whl (8.4 kB)\nInstalling collected packages: split-folders\nSuccessfully installed split-folders-0.5.1\n",
          "output_type": "stream"
        }
      ],
      "execution_count": null
    },
    {
      "cell_type": "code",
      "source": [
        "import tensorflow as tf\n",
        "import numpy as np\n",
        "import os\n",
        "import splitfolders\n",
        "\n",
        "input_folder = '/kaggle/input/sfh-dataset/3 Classification'\n",
        "\n",
        "output_folder = 'train_test_val'\n",
        "\n",
        "splitfolders.ratio(input_folder, output=output_folder, ratio=(0.7, 0.15, 0.15))\n",
        "\n",
        "os.environ['TF_CPP_MIN_LOG_LEVEL'] = '2'"
      ],
      "metadata": {
        "execution": {
          "iopub.status.busy": "2025-05-12T04:21:24.245083Z",
          "iopub.execute_input": "2025-05-12T04:21:24.24601Z",
          "iopub.status.idle": "2025-05-12T04:21:35.337866Z",
          "shell.execute_reply.started": "2025-05-12T04:21:24.24598Z",
          "shell.execute_reply": "2025-05-12T04:21:35.336991Z"
        },
        "trusted": true,
        "id": "yLWJncWfLIfF",
        "outputId": "452e74fd-fe1a-421b-dc62-79f12f8faf27"
      },
      "outputs": [
        {
          "name": "stderr",
          "text": "Copying files: 7393 files [00:11, 667.14 files/s]\n",
          "output_type": "stream"
        }
      ],
      "execution_count": null
    },
    {
      "cell_type": "markdown",
      "source": [
        "## build the model layers (CNN)"
      ],
      "metadata": {
        "id": "NPs-hGfxLIfF"
      }
    },
    {
      "cell_type": "code",
      "source": [
        "model = tf.keras.models.Sequential([\n",
        "    tf.keras.layers.Conv2D(64, (3, 3), activation='relu', input_shape=(100, 100, 3)),\n",
        "    tf.keras.layers.MaxPooling2D(2, 2),\n",
        "    tf.keras.layers.Conv2D(128, (3, 3), activation='relu'),\n",
        "    tf.keras.layers.MaxPooling2D(2, 2),\n",
        "    tf.keras.layers.Conv2D(128, (3, 3), activation='relu'),\n",
        "    tf.keras.layers.MaxPooling2D(2, 2),\n",
        "    tf.keras.layers.Conv2D(128, (3, 3), activation='relu'),\n",
        "    tf.keras.layers.MaxPooling2D(2, 2),\n",
        "    tf.keras.layers.Conv2D(128, (3, 3), activation='relu'),\n",
        "    tf.keras.layers.MaxPooling2D(2, 2),\n",
        "    tf.keras.layers.Flatten(),\n",
        "    tf.keras.layers.Dropout(0.5),\n",
        "    tf.keras.layers.Dense(64, activation='relu'),\n",
        "    tf.keras.layers.Dense(2, activation='softmax')\n",
        "])\n",
        "\n",
        "model.compile(loss='categorical_crossentropy', optimizer='adam', metrics=['accuracy'])\n",
        "\n"
      ],
      "metadata": {
        "execution": {
          "iopub.status.busy": "2025-05-12T04:21:40.546834Z",
          "iopub.execute_input": "2025-05-12T04:21:40.547148Z",
          "iopub.status.idle": "2025-05-12T04:21:41.606328Z",
          "shell.execute_reply.started": "2025-05-12T04:21:40.547122Z",
          "shell.execute_reply": "2025-05-12T04:21:41.605681Z"
        },
        "trusted": true,
        "id": "JF6CyI8qLIfG",
        "outputId": "573851c1-1627-4c89-9b84-7b40f7da5938"
      },
      "outputs": [
        {
          "name": "stderr",
          "text": "/opt/conda/lib/python3.10/site-packages/keras/src/layers/convolutional/base_conv.py:99: UserWarning: Do not pass an `input_shape`/`input_dim` argument to a layer. When using Sequential models, prefer using an `Input(shape)` object as the first layer in the model instead.\n  super().__init__(\n",
          "output_type": "stream"
        }
      ],
      "execution_count": null
    },
    {
      "cell_type": "markdown",
      "source": [
        "## data augmentation"
      ],
      "metadata": {
        "id": "OgSa9gfjLIfG"
      }
    },
    {
      "cell_type": "code",
      "source": [
        "# Define paths for training, validation, and test directories\n",
        "train_dir = os.path.join(output_folder, 'train')\n",
        "val_dir = os.path.join(output_folder, 'val')\n",
        "test_dir = os.path.join(output_folder, 'test')\n",
        "\n",
        "# Data augmentation for the training data\n",
        "train_generator = tf.keras.preprocessing.image.ImageDataGenerator(\n",
        "    rescale=1/255,\n",
        "    rotation_range=40,\n",
        "    width_shift_range=0.2,\n",
        "    height_shift_range=0.2,\n",
        "    shear_range=0.2,\n",
        "    zoom_range=0.2,\n",
        "    horizontal_flip=True\n",
        ").flow_from_directory(train_dir,\n",
        "                      color_mode='rgb',\n",
        "                      target_size=(100, 100),\n",
        "                      batch_size=128,\n",
        "                      class_mode='categorical')\n",
        "\n",
        "# Validation data generator\n",
        "val_generator = tf.keras.preprocessing.image.ImageDataGenerator(\n",
        "    rescale=1/255\n",
        ").flow_from_directory(val_dir,\n",
        "                      color_mode='rgb',\n",
        "                      target_size=(100, 100),\n",
        "                      batch_size=16,\n",
        "                      class_mode='categorical')\n",
        "\n",
        "# Test data generator\n",
        "test_generator = tf.keras.preprocessing.image.ImageDataGenerator(\n",
        "    rescale=1/255\n",
        ").flow_from_directory(test_dir,\n",
        "                      color_mode='rgb',\n",
        "                      target_size=(100, 100),\n",
        "                      batch_size=16,\n",
        "                      class_mode='categorical')\n"
      ],
      "metadata": {
        "execution": {
          "iopub.status.busy": "2025-05-12T04:21:59.146589Z",
          "iopub.execute_input": "2025-05-12T04:21:59.147257Z",
          "iopub.status.idle": "2025-05-12T04:21:59.322513Z",
          "shell.execute_reply.started": "2025-05-12T04:21:59.14723Z",
          "shell.execute_reply": "2025-05-12T04:21:59.321897Z"
        },
        "trusted": true,
        "id": "4Cr8hnT_LIfH",
        "outputId": "326bd3c2-657d-4eae-fb05-c0c2d6de7a8d"
      },
      "outputs": [
        {
          "name": "stdout",
          "text": "Found 5174 images belonging to 2 classes.\nFound 1108 images belonging to 2 classes.\nFound 1111 images belonging to 2 classes.\n",
          "output_type": "stream"
        }
      ],
      "execution_count": null
    },
    {
      "cell_type": "markdown",
      "source": [
        "## fit the model and save the best results"
      ],
      "metadata": {
        "id": "ul1iYf3tLIfH"
      }
    },
    {
      "cell_type": "code",
      "source": [
        "# Fit the model and save the best results\n",
        "checkpoint = tf.keras.callbacks.ModelCheckpoint('model.keras',\n",
        "                                                monitor='val_loss',\n",
        "                                                verbose=1,\n",
        "                                                save_best_only=True,\n",
        "                                                mode='min')\n",
        "\n",
        "history = model.fit(train_generator,\n",
        "                    epochs=25,\n",
        "                    validation_data=val_generator,\n",
        "                    callbacks=[checkpoint])\n"
      ],
      "metadata": {
        "execution": {
          "iopub.status.busy": "2025-05-12T04:22:06.054232Z",
          "iopub.execute_input": "2025-05-12T04:22:06.054866Z",
          "iopub.status.idle": "2025-05-12T04:50:23.841516Z",
          "shell.execute_reply.started": "2025-05-12T04:22:06.054838Z",
          "shell.execute_reply": "2025-05-12T04:50:23.840633Z"
        },
        "trusted": true,
        "id": "18YMUNBFLIfH",
        "outputId": "c5505586-79a6-48bd-d652-de0a06c26bd2"
      },
      "outputs": [
        {
          "name": "stdout",
          "text": "Epoch 1/25\n",
          "output_type": "stream"
        },
        {
          "name": "stderr",
          "text": "/opt/conda/lib/python3.10/site-packages/keras/src/trainers/data_adapters/py_dataset_adapter.py:120: UserWarning: Your `PyDataset` class should call `super().__init__(**kwargs)` in its constructor. `**kwargs` can include `workers`, `use_multiprocessing`, `max_queue_size`. Do not pass these arguments to `fit()`, as they will be ignored.\n  self._warn_if_super_not_called()\n",
          "output_type": "stream"
        },
        {
          "name": "stdout",
          "text": "\u001b[1m 2/41\u001b[0m \u001b[37m━━━━━━━━━━━━━━━━━━━━\u001b[0m \u001b[1m2s\u001b[0m 66ms/step - accuracy: 0.6953 - loss: 0.6481  ",
          "output_type": "stream"
        },
        {
          "name": "stderr",
          "text": "WARNING: All log messages before absl::InitializeLog() is called are written to STDERR\nI0000 00:00:1747023755.345560     112 device_compiler.h:186] Compiled cluster using XLA!  This line is logged at most once for the lifetime of the process.\n",
          "output_type": "stream"
        },
        {
          "name": "stdout",
          "text": "\u001b[1m41/41\u001b[0m \u001b[32m━━━━━━━━━━━━━━━━━━━━\u001b[0m\u001b[37m\u001b[0m \u001b[1m0s\u001b[0m 1s/step - accuracy: 0.7559 - loss: 0.6069\nEpoch 1: val_loss improved from inf to 0.55101, saving model to model.keras\n\u001b[1m41/41\u001b[0m \u001b[32m━━━━━━━━━━━━━━━━━━━━\u001b[0m\u001b[37m\u001b[0m \u001b[1m92s\u001b[0m 2s/step - accuracy: 0.7560 - loss: 0.6062 - val_accuracy: 0.7617 - val_loss: 0.5510\nEpoch 2/25\n\u001b[1m41/41\u001b[0m \u001b[32m━━━━━━━━━━━━━━━━━━━━\u001b[0m\u001b[37m\u001b[0m \u001b[1m0s\u001b[0m 1s/step - accuracy: 0.7716 - loss: 0.5406\nEpoch 2: val_loss improved from 0.55101 to 0.54368, saving model to model.keras\n\u001b[1m41/41\u001b[0m \u001b[32m━━━━━━━━━━━━━━━━━━━━\u001b[0m\u001b[37m\u001b[0m \u001b[1m68s\u001b[0m 1s/step - accuracy: 0.7713 - loss: 0.5408 - val_accuracy: 0.7617 - val_loss: 0.5437\nEpoch 3/25\n\u001b[1m41/41\u001b[0m \u001b[32m━━━━━━━━━━━━━━━━━━━━\u001b[0m\u001b[37m\u001b[0m \u001b[1m0s\u001b[0m 1s/step - accuracy: 0.7651 - loss: 0.5456\nEpoch 3: val_loss did not improve from 0.54368\n\u001b[1m41/41\u001b[0m \u001b[32m━━━━━━━━━━━━━━━━━━━━\u001b[0m\u001b[37m\u001b[0m \u001b[1m67s\u001b[0m 1s/step - accuracy: 0.7650 - loss: 0.5458 - val_accuracy: 0.7617 - val_loss: 0.5493\nEpoch 4/25\n\u001b[1m41/41\u001b[0m \u001b[32m━━━━━━━━━━━━━━━━━━━━\u001b[0m\u001b[37m\u001b[0m \u001b[1m0s\u001b[0m 1s/step - accuracy: 0.7674 - loss: 0.5381\nEpoch 4: val_loss improved from 0.54368 to 0.52836, saving model to model.keras\n\u001b[1m41/41\u001b[0m \u001b[32m━━━━━━━━━━━━━━━━━━━━\u001b[0m\u001b[37m\u001b[0m \u001b[1m68s\u001b[0m 1s/step - accuracy: 0.7672 - loss: 0.5381 - val_accuracy: 0.7617 - val_loss: 0.5284\nEpoch 5/25\n\u001b[1m41/41\u001b[0m \u001b[32m━━━━━━━━━━━━━━━━━━━━\u001b[0m\u001b[37m\u001b[0m \u001b[1m0s\u001b[0m 1s/step - accuracy: 0.7572 - loss: 0.5336\nEpoch 5: val_loss improved from 0.52836 to 0.47814, saving model to model.keras\n\u001b[1m41/41\u001b[0m \u001b[32m━━━━━━━━━━━━━━━━━━━━\u001b[0m\u001b[37m\u001b[0m \u001b[1m66s\u001b[0m 1s/step - accuracy: 0.7573 - loss: 0.5333 - val_accuracy: 0.7681 - val_loss: 0.4781\nEpoch 6/25\n\u001b[1m41/41\u001b[0m \u001b[32m━━━━━━━━━━━━━━━━━━━━\u001b[0m\u001b[37m\u001b[0m \u001b[1m0s\u001b[0m 1s/step - accuracy: 0.7617 - loss: 0.4983\nEpoch 6: val_loss improved from 0.47814 to 0.47748, saving model to model.keras\n\u001b[1m41/41\u001b[0m \u001b[32m━━━━━━━━━━━━━━━━━━━━\u001b[0m\u001b[37m\u001b[0m \u001b[1m67s\u001b[0m 1s/step - accuracy: 0.7616 - loss: 0.4983 - val_accuracy: 0.7644 - val_loss: 0.4775\nEpoch 7/25\n\u001b[1m41/41\u001b[0m \u001b[32m━━━━━━━━━━━━━━━━━━━━\u001b[0m\u001b[37m\u001b[0m \u001b[1m0s\u001b[0m 1s/step - accuracy: 0.7533 - loss: 0.5117\nEpoch 7: val_loss improved from 0.47748 to 0.42324, saving model to model.keras\n\u001b[1m41/41\u001b[0m \u001b[32m━━━━━━━━━━━━━━━━━━━━\u001b[0m\u001b[37m\u001b[0m \u001b[1m67s\u001b[0m 1s/step - accuracy: 0.7534 - loss: 0.5112 - val_accuracy: 0.7671 - val_loss: 0.4232\nEpoch 8/25\n\u001b[1m41/41\u001b[0m \u001b[32m━━━━━━━━━━━━━━━━━━━━\u001b[0m\u001b[37m\u001b[0m \u001b[1m0s\u001b[0m 1s/step - accuracy: 0.7699 - loss: 0.4515\nEpoch 8: val_loss did not improve from 0.42324\n\u001b[1m41/41\u001b[0m \u001b[32m━━━━━━━━━━━━━━━━━━━━\u001b[0m\u001b[37m\u001b[0m \u001b[1m67s\u001b[0m 1s/step - accuracy: 0.7698 - loss: 0.4519 - val_accuracy: 0.7825 - val_loss: 0.4308\nEpoch 9/25\n\u001b[1m41/41\u001b[0m \u001b[32m━━━━━━━━━━━━━━━━━━━━\u001b[0m\u001b[37m\u001b[0m \u001b[1m0s\u001b[0m 1s/step - accuracy: 0.7697 - loss: 0.4458\nEpoch 9: val_loss improved from 0.42324 to 0.39272, saving model to model.keras\n\u001b[1m41/41\u001b[0m \u001b[32m━━━━━━━━━━━━━━━━━━━━\u001b[0m\u001b[37m\u001b[0m \u001b[1m66s\u001b[0m 1s/step - accuracy: 0.7697 - loss: 0.4459 - val_accuracy: 0.8150 - val_loss: 0.3927\nEpoch 10/25\n\u001b[1m41/41\u001b[0m \u001b[32m━━━━━━━━━━━━━━━━━━━━\u001b[0m\u001b[37m\u001b[0m \u001b[1m0s\u001b[0m 1s/step - accuracy: 0.7979 - loss: 0.4182\nEpoch 10: val_loss improved from 0.39272 to 0.37250, saving model to model.keras\n\u001b[1m41/41\u001b[0m \u001b[32m━━━━━━━━━━━━━━━━━━━━\u001b[0m\u001b[37m\u001b[0m \u001b[1m67s\u001b[0m 1s/step - accuracy: 0.7980 - loss: 0.4182 - val_accuracy: 0.8384 - val_loss: 0.3725\nEpoch 11/25\n\u001b[1m41/41\u001b[0m \u001b[32m━━━━━━━━━━━━━━━━━━━━\u001b[0m\u001b[37m\u001b[0m \u001b[1m0s\u001b[0m 1s/step - accuracy: 0.8100 - loss: 0.4067\nEpoch 11: val_loss improved from 0.37250 to 0.35841, saving model to model.keras\n\u001b[1m41/41\u001b[0m \u001b[32m━━━━━━━━━━━━━━━━━━━━\u001b[0m\u001b[37m\u001b[0m \u001b[1m67s\u001b[0m 1s/step - accuracy: 0.8101 - loss: 0.4068 - val_accuracy: 0.8484 - val_loss: 0.3584\nEpoch 12/25\n\u001b[1m41/41\u001b[0m \u001b[32m━━━━━━━━━━━━━━━━━━━━\u001b[0m\u001b[37m\u001b[0m \u001b[1m0s\u001b[0m 1s/step - accuracy: 0.8273 - loss: 0.3881\nEpoch 12: val_loss did not improve from 0.35841\n\u001b[1m41/41\u001b[0m \u001b[32m━━━━━━━━━━━━━━━━━━━━\u001b[0m\u001b[37m\u001b[0m \u001b[1m67s\u001b[0m 1s/step - accuracy: 0.8274 - loss: 0.3881 - val_accuracy: 0.8421 - val_loss: 0.3670\nEpoch 13/25\n\u001b[1m41/41\u001b[0m \u001b[32m━━━━━━━━━━━━━━━━━━━━\u001b[0m\u001b[37m\u001b[0m \u001b[1m0s\u001b[0m 1s/step - accuracy: 0.8386 - loss: 0.3783\nEpoch 13: val_loss improved from 0.35841 to 0.30338, saving model to model.keras\n\u001b[1m41/41\u001b[0m \u001b[32m━━━━━━━━━━━━━━━━━━━━\u001b[0m\u001b[37m\u001b[0m \u001b[1m67s\u001b[0m 1s/step - accuracy: 0.8384 - loss: 0.3785 - val_accuracy: 0.8764 - val_loss: 0.3034\nEpoch 14/25\n\u001b[1m41/41\u001b[0m \u001b[32m━━━━━━━━━━━━━━━━━━━━\u001b[0m\u001b[37m\u001b[0m \u001b[1m0s\u001b[0m 1s/step - accuracy: 0.8355 - loss: 0.3749\nEpoch 14: val_loss improved from 0.30338 to 0.29187, saving model to model.keras\n\u001b[1m41/41\u001b[0m \u001b[32m━━━━━━━━━━━━━━━━━━━━\u001b[0m\u001b[37m\u001b[0m \u001b[1m67s\u001b[0m 1s/step - accuracy: 0.8357 - loss: 0.3747 - val_accuracy: 0.8926 - val_loss: 0.2919\nEpoch 15/25\n\u001b[1m41/41\u001b[0m \u001b[32m━━━━━━━━━━━━━━━━━━━━\u001b[0m\u001b[37m\u001b[0m \u001b[1m0s\u001b[0m 1s/step - accuracy: 0.8468 - loss: 0.3611\nEpoch 15: val_loss did not improve from 0.29187\n\u001b[1m41/41\u001b[0m \u001b[32m━━━━━━━━━━━━━━━━━━━━\u001b[0m\u001b[37m\u001b[0m \u001b[1m67s\u001b[0m 1s/step - accuracy: 0.8468 - loss: 0.3611 - val_accuracy: 0.8601 - val_loss: 0.3221\nEpoch 16/25\n\u001b[1m41/41\u001b[0m \u001b[32m━━━━━━━━━━━━━━━━━━━━\u001b[0m\u001b[37m\u001b[0m \u001b[1m0s\u001b[0m 1s/step - accuracy: 0.8443 - loss: 0.3584\nEpoch 16: val_loss improved from 0.29187 to 0.27442, saving model to model.keras\n\u001b[1m41/41\u001b[0m \u001b[32m━━━━━━━━━━━━━━━━━━━━\u001b[0m\u001b[37m\u001b[0m \u001b[1m66s\u001b[0m 1s/step - accuracy: 0.8444 - loss: 0.3581 - val_accuracy: 0.8818 - val_loss: 0.2744\nEpoch 17/25\n\u001b[1m41/41\u001b[0m \u001b[32m━━━━━━━━━━━━━━━━━━━━\u001b[0m\u001b[37m\u001b[0m \u001b[1m0s\u001b[0m 1s/step - accuracy: 0.8614 - loss: 0.3345\nEpoch 17: val_loss did not improve from 0.27442\n\u001b[1m41/41\u001b[0m \u001b[32m━━━━━━━━━━━━━━━━━━━━\u001b[0m\u001b[37m\u001b[0m \u001b[1m67s\u001b[0m 1s/step - accuracy: 0.8614 - loss: 0.3345 - val_accuracy: 0.8836 - val_loss: 0.2819\nEpoch 18/25\n\u001b[1m41/41\u001b[0m \u001b[32m━━━━━━━━━━━━━━━━━━━━\u001b[0m\u001b[37m\u001b[0m \u001b[1m0s\u001b[0m 1s/step - accuracy: 0.8592 - loss: 0.3298\nEpoch 18: val_loss improved from 0.27442 to 0.23597, saving model to model.keras\n\u001b[1m41/41\u001b[0m \u001b[32m━━━━━━━━━━━━━━━━━━━━\u001b[0m\u001b[37m\u001b[0m \u001b[1m68s\u001b[0m 1s/step - accuracy: 0.8594 - loss: 0.3295 - val_accuracy: 0.9034 - val_loss: 0.2360\nEpoch 19/25\n\u001b[1m41/41\u001b[0m \u001b[32m━━━━━━━━━━━━━━━━━━━━\u001b[0m\u001b[37m\u001b[0m \u001b[1m0s\u001b[0m 1s/step - accuracy: 0.8715 - loss: 0.3078\nEpoch 19: val_loss did not improve from 0.23597\n\u001b[1m41/41\u001b[0m \u001b[32m━━━━━━━━━━━━━━━━━━━━\u001b[0m\u001b[37m\u001b[0m \u001b[1m66s\u001b[0m 1s/step - accuracy: 0.8714 - loss: 0.3080 - val_accuracy: 0.8375 - val_loss: 0.3231\nEpoch 20/25\n\u001b[1m41/41\u001b[0m \u001b[32m━━━━━━━━━━━━━━━━━━━━\u001b[0m\u001b[37m\u001b[0m \u001b[1m0s\u001b[0m 1s/step - accuracy: 0.8562 - loss: 0.3316\nEpoch 20: val_loss improved from 0.23597 to 0.23185, saving model to model.keras\n\u001b[1m41/41\u001b[0m \u001b[32m━━━━━━━━━━━━━━━━━━━━\u001b[0m\u001b[37m\u001b[0m \u001b[1m67s\u001b[0m 1s/step - accuracy: 0.8565 - loss: 0.3312 - val_accuracy: 0.9097 - val_loss: 0.2319\nEpoch 21/25\n\u001b[1m41/41\u001b[0m \u001b[32m━━━━━━━━━━━━━━━━━━━━\u001b[0m\u001b[37m\u001b[0m \u001b[1m0s\u001b[0m 1s/step - accuracy: 0.8823 - loss: 0.2866\nEpoch 21: val_loss did not improve from 0.23185\n\u001b[1m41/41\u001b[0m \u001b[32m━━━━━━━━━━━━━━━━━━━━\u001b[0m\u001b[37m\u001b[0m \u001b[1m67s\u001b[0m 1s/step - accuracy: 0.8822 - loss: 0.2867 - val_accuracy: 0.8989 - val_loss: 0.2322\nEpoch 22/25\n\u001b[1m41/41\u001b[0m \u001b[32m━━━━━━━━━━━━━━━━━━━━\u001b[0m\u001b[37m\u001b[0m \u001b[1m0s\u001b[0m 1s/step - accuracy: 0.8666 - loss: 0.3117\nEpoch 22: val_loss did not improve from 0.23185\n\u001b[1m41/41\u001b[0m \u001b[32m━━━━━━━━━━━━━━━━━━━━\u001b[0m\u001b[37m\u001b[0m \u001b[1m67s\u001b[0m 1s/step - accuracy: 0.8668 - loss: 0.3114 - val_accuracy: 0.8845 - val_loss: 0.2592\nEpoch 23/25\n\u001b[1m41/41\u001b[0m \u001b[32m━━━━━━━━━━━━━━━━━━━━\u001b[0m\u001b[37m\u001b[0m \u001b[1m0s\u001b[0m 1s/step - accuracy: 0.8853 - loss: 0.2831\nEpoch 23: val_loss improved from 0.23185 to 0.22084, saving model to model.keras\n\u001b[1m41/41\u001b[0m \u001b[32m━━━━━━━━━━━━━━━━━━━━\u001b[0m\u001b[37m\u001b[0m \u001b[1m67s\u001b[0m 1s/step - accuracy: 0.8854 - loss: 0.2828 - val_accuracy: 0.9007 - val_loss: 0.2208\nEpoch 24/25\n\u001b[1m41/41\u001b[0m \u001b[32m━━━━━━━━━━━━━━━━━━━━\u001b[0m\u001b[37m\u001b[0m \u001b[1m0s\u001b[0m 1s/step - accuracy: 0.8766 - loss: 0.2926\nEpoch 24: val_loss improved from 0.22084 to 0.20800, saving model to model.keras\n\u001b[1m41/41\u001b[0m \u001b[32m━━━━━━━━━━━━━━━━━━━━\u001b[0m\u001b[37m\u001b[0m \u001b[1m66s\u001b[0m 1s/step - accuracy: 0.8767 - loss: 0.2925 - val_accuracy: 0.9097 - val_loss: 0.2080\nEpoch 25/25\n\u001b[1m41/41\u001b[0m \u001b[32m━━━━━━━━━━━━━━━━━━━━\u001b[0m\u001b[37m\u001b[0m \u001b[1m0s\u001b[0m 1s/step - accuracy: 0.8970 - loss: 0.2606\nEpoch 25: val_loss did not improve from 0.20800\n\u001b[1m41/41\u001b[0m \u001b[32m━━━━━━━━━━━━━━━━━━━━\u001b[0m\u001b[37m\u001b[0m \u001b[1m66s\u001b[0m 1s/step - accuracy: 0.8968 - loss: 0.2607 - val_accuracy: 0.9025 - val_loss: 0.2137\n",
          "output_type": "stream"
        }
      ],
      "execution_count": null
    },
    {
      "cell_type": "markdown",
      "source": [
        "## get the accuracy for the test data\n"
      ],
      "metadata": {
        "id": "rBmXdefeLIfI"
      }
    },
    {
      "cell_type": "code",
      "source": [
        "from tensorflow.keras.models import load_model\n",
        "\n",
        "# Load the best saved model\n",
        "model = load_model('model.keras')\n",
        "test_loss, test_accuracy = model.evaluate(test_generator)\n",
        "print(\"Test Loss:\", test_loss)\n",
        "print(\"Test Accuracy:\", test_accuracy)\n"
      ],
      "metadata": {
        "trusted": true,
        "execution": {
          "iopub.status.busy": "2025-05-12T06:22:40.422381Z",
          "iopub.execute_input": "2025-05-12T06:22:40.422675Z",
          "iopub.status.idle": "2025-05-12T06:22:52.698437Z",
          "shell.execute_reply.started": "2025-05-12T06:22:40.422636Z",
          "shell.execute_reply": "2025-05-12T06:22:52.696955Z"
        },
        "id": "6JigvfGZLIfI",
        "outputId": "00136cd8-16b1-432e-879f-90aeddf3e4be"
      },
      "outputs": [
        {
          "name": "stderr",
          "text": "2025-05-12 06:22:42.197101: E external/local_xla/xla/stream_executor/cuda/cuda_dnn.cc:9261] Unable to register cuDNN factory: Attempting to register factory for plugin cuDNN when one has already been registered\n2025-05-12 06:22:42.197251: E external/local_xla/xla/stream_executor/cuda/cuda_fft.cc:607] Unable to register cuFFT factory: Attempting to register factory for plugin cuFFT when one has already been registered\n2025-05-12 06:22:42.326457: E external/local_xla/xla/stream_executor/cuda/cuda_blas.cc:1515] Unable to register cuBLAS factory: Attempting to register factory for plugin cuBLAS when one has already been registered\n",
          "output_type": "stream"
        },
        {
          "traceback": [
            "\u001b[0;31m---------------------------------------------------------------------------\u001b[0m",
            "\u001b[0;31mValueError\u001b[0m                                Traceback (most recent call last)",
            "Cell \u001b[0;32mIn[1], line 4\u001b[0m\n\u001b[1;32m      1\u001b[0m \u001b[38;5;28;01mfrom\u001b[39;00m \u001b[38;5;21;01mtensorflow\u001b[39;00m\u001b[38;5;21;01m.\u001b[39;00m\u001b[38;5;21;01mkeras\u001b[39;00m\u001b[38;5;21;01m.\u001b[39;00m\u001b[38;5;21;01mmodels\u001b[39;00m \u001b[38;5;28;01mimport\u001b[39;00m load_model\n\u001b[1;32m      3\u001b[0m \u001b[38;5;66;03m# Load the best saved model\u001b[39;00m\n\u001b[0;32m----> 4\u001b[0m model \u001b[38;5;241m=\u001b[39m \u001b[43mload_model\u001b[49m\u001b[43m(\u001b[49m\u001b[38;5;124;43m'\u001b[39;49m\u001b[38;5;124;43mmodel.keras\u001b[39;49m\u001b[38;5;124;43m'\u001b[39;49m\u001b[43m)\u001b[49m\n\u001b[1;32m      5\u001b[0m test_loss, test_accuracy \u001b[38;5;241m=\u001b[39m model\u001b[38;5;241m.\u001b[39mevaluate(test_generator)\n\u001b[1;32m      6\u001b[0m \u001b[38;5;28mprint\u001b[39m(\u001b[38;5;124m\"\u001b[39m\u001b[38;5;124mTest Loss:\u001b[39m\u001b[38;5;124m\"\u001b[39m, test_loss)\n",
            "File \u001b[0;32m/opt/conda/lib/python3.10/site-packages/keras/src/saving/saving_api.py:185\u001b[0m, in \u001b[0;36mload_model\u001b[0;34m(filepath, custom_objects, compile, safe_mode)\u001b[0m\n\u001b[1;32m    183\u001b[0m     \u001b[38;5;28;01mreturn\u001b[39;00m legacy_h5_format\u001b[38;5;241m.\u001b[39mload_model_from_hdf5(filepath)\n\u001b[1;32m    184\u001b[0m \u001b[38;5;28;01melif\u001b[39;00m \u001b[38;5;28mstr\u001b[39m(filepath)\u001b[38;5;241m.\u001b[39mendswith(\u001b[38;5;124m\"\u001b[39m\u001b[38;5;124m.keras\u001b[39m\u001b[38;5;124m\"\u001b[39m):\n\u001b[0;32m--> 185\u001b[0m     \u001b[38;5;28;01mraise\u001b[39;00m \u001b[38;5;167;01mValueError\u001b[39;00m(\n\u001b[1;32m    186\u001b[0m         \u001b[38;5;124mf\u001b[39m\u001b[38;5;124m\"\u001b[39m\u001b[38;5;124mFile not found: filepath=\u001b[39m\u001b[38;5;132;01m{\u001b[39;00mfilepath\u001b[38;5;132;01m}\u001b[39;00m\u001b[38;5;124m. \u001b[39m\u001b[38;5;124m\"\u001b[39m\n\u001b[1;32m    187\u001b[0m         \u001b[38;5;124m\"\u001b[39m\u001b[38;5;124mPlease ensure the file is an accessible `.keras` \u001b[39m\u001b[38;5;124m\"\u001b[39m\n\u001b[1;32m    188\u001b[0m         \u001b[38;5;124m\"\u001b[39m\u001b[38;5;124mzip file.\u001b[39m\u001b[38;5;124m\"\u001b[39m\n\u001b[1;32m    189\u001b[0m     )\n\u001b[1;32m    190\u001b[0m \u001b[38;5;28;01melse\u001b[39;00m:\n\u001b[1;32m    191\u001b[0m     \u001b[38;5;28;01mraise\u001b[39;00m \u001b[38;5;167;01mValueError\u001b[39;00m(\n\u001b[1;32m    192\u001b[0m         \u001b[38;5;124mf\u001b[39m\u001b[38;5;124m\"\u001b[39m\u001b[38;5;124mFile format not supported: filepath=\u001b[39m\u001b[38;5;132;01m{\u001b[39;00mfilepath\u001b[38;5;132;01m}\u001b[39;00m\u001b[38;5;124m. \u001b[39m\u001b[38;5;124m\"\u001b[39m\n\u001b[1;32m    193\u001b[0m         \u001b[38;5;124m\"\u001b[39m\u001b[38;5;124mKeras 3 only supports V3 `.keras` files and \u001b[39m\u001b[38;5;124m\"\u001b[39m\n\u001b[0;32m   (...)\u001b[0m\n\u001b[1;32m    202\u001b[0m         \u001b[38;5;124m\"\u001b[39m\u001b[38;5;124mmight have a different name).\u001b[39m\u001b[38;5;124m\"\u001b[39m\n\u001b[1;32m    203\u001b[0m     )\n",
            "\u001b[0;31mValueError\u001b[0m: File not found: filepath=model.keras. Please ensure the file is an accessible `.keras` zip file."
          ],
          "ename": "ValueError",
          "evalue": "File not found: filepath=model.keras. Please ensure the file is an accessible `.keras` zip file.",
          "output_type": "error"
        }
      ],
      "execution_count": null
    },
    {
      "cell_type": "code",
      "source": [
        "import matplotlib.pyplot as plt\n",
        "\n",
        "acc = history.history['accuracy']\n",
        "val_acc = history.history['val_accuracy']\n",
        "loss = history.history['loss']\n",
        "val_loss = history.history['val_loss']\n",
        "epochs_range = range(len(acc))\n",
        "\n",
        "plt.figure(figsize=(12, 6))\n",
        "plt.subplot(1, 2, 1)\n",
        "plt.plot(epochs_range, acc, label='Training Accuracy')\n",
        "plt.plot(epochs_range, val_acc, label='Validation Accuracy')\n",
        "plt.legend(loc='lower right')\n",
        "plt.title('Training and Validation Accuracy')\n",
        "\n",
        "plt.subplot(1, 2, 2)\n",
        "plt.plot(epochs_range, loss, label='Training Loss')\n",
        "plt.plot(epochs_range, val_loss, label='Validation Loss')\n",
        "plt.legend(loc='upper right')\n",
        "plt.title('Training and Validation Loss')\n",
        "plt.show()\n"
      ],
      "metadata": {
        "trusted": true,
        "id": "EnuJ-4c-LIfJ"
      },
      "outputs": [],
      "execution_count": null
    },
    {
      "cell_type": "code",
      "source": [
        "import numpy as np\n",
        "from sklearn.metrics import classification_report, confusion_matrix\n",
        "import seaborn as sns\n",
        "\n",
        "# Get predictions and true labels\n",
        "y_pred = model.predict(test_generator)\n",
        "y_pred_classes = np.argmax(y_pred, axis=1)\n",
        "y_true = test_generator.classes\n",
        "\n",
        "# Confusion matrix\n",
        "cm = confusion_matrix(y_true, y_pred_classes)\n",
        "sns.heatmap(cm, annot=True, fmt='d', cmap='Blues')\n",
        "plt.xlabel('Predicted')\n",
        "plt.ylabel('True')\n",
        "plt.title('Confusion Matrix')\n",
        "plt.show()\n",
        "\n",
        "# Classification report\n",
        "print(classification_report(y_true, y_pred_classes, target_names=test_generator.class_indices.keys()))\n"
      ],
      "metadata": {
        "trusted": true,
        "execution": {
          "iopub.status.busy": "2025-05-12T05:06:55.202254Z",
          "iopub.execute_input": "2025-05-12T05:06:55.202548Z",
          "iopub.status.idle": "2025-05-12T05:06:57.533411Z",
          "shell.execute_reply.started": "2025-05-12T05:06:55.202526Z",
          "shell.execute_reply": "2025-05-12T05:06:57.532077Z"
        },
        "id": "aWHa7u6yLIfJ",
        "outputId": "da0b4315-e5ea-4d82-9725-d790d726927c"
      },
      "outputs": [
        {
          "traceback": [
            "\u001b[0;31m---------------------------------------------------------------------------\u001b[0m",
            "\u001b[0;31mNameError\u001b[0m                                 Traceback (most recent call last)",
            "Cell \u001b[0;32mIn[1], line 6\u001b[0m\n\u001b[1;32m      3\u001b[0m \u001b[38;5;28;01mimport\u001b[39;00m \u001b[38;5;21;01mseaborn\u001b[39;00m \u001b[38;5;28;01mas\u001b[39;00m \u001b[38;5;21;01msns\u001b[39;00m\n\u001b[1;32m      5\u001b[0m \u001b[38;5;66;03m# Get predictions and true labels\u001b[39;00m\n\u001b[0;32m----> 6\u001b[0m y_pred \u001b[38;5;241m=\u001b[39m \u001b[43mmodel\u001b[49m\u001b[38;5;241m.\u001b[39mpredict(test_generator)\n\u001b[1;32m      7\u001b[0m y_pred_classes \u001b[38;5;241m=\u001b[39m np\u001b[38;5;241m.\u001b[39margmax(y_pred, axis\u001b[38;5;241m=\u001b[39m\u001b[38;5;241m1\u001b[39m)\n\u001b[1;32m      8\u001b[0m y_true \u001b[38;5;241m=\u001b[39m test_generator\u001b[38;5;241m.\u001b[39mclasses\n",
            "\u001b[0;31mNameError\u001b[0m: name 'model' is not defined"
          ],
          "ename": "NameError",
          "evalue": "name 'model' is not defined",
          "output_type": "error"
        }
      ],
      "execution_count": null
    }
  ]
}